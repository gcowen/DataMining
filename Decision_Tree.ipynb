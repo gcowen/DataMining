{
  "nbformat": 4,
  "nbformat_minor": 0,
  "metadata": {
    "colab": {
      "name": "Decision Tree.ipynb",
      "provenance": [],
      "collapsed_sections": []
    },
    "kernelspec": {
      "name": "python3",
      "display_name": "Python 3"
    }
  },
  "cells": [
    {
      "cell_type": "code",
      "metadata": {
        "id": "-y0Vtzv1H3uh",
        "colab_type": "code",
        "outputId": "bd7d885b-3eb0-49c4-8bfd-a46cb0ca5ffc",
        "colab": {
          "base_uri": "https://localhost:8080/",
          "height": 34
        }
      },
      "source": [
        "# Decision Tree\n",
        "# Sources\n",
        "# https://scikit-learn.org/stable/modules/tree.html\n",
        "# https://www.datacamp.com/community/tutorials/decision-tree-classification-python\n",
        "# https://stackoverflow.com/questions/31324218/scikit-learn-how-to-obtain-true-positive-true-negative-false-positive-and-fal\n",
        "\n",
        "# Imports \n",
        "import pandas as pd\n",
        "import numpy as np\n",
        "import csv\n",
        "# scikit-learn libraries for decision tree, metrics, and training splitter from scikit-learn\n",
        "from sklearn.model_selection import train_test_split\n",
        "from sklearn.tree import DecisionTreeClassifier\n",
        "from sklearn.metrics import confusion_matrix\n",
        "from sklearn import tree, metrics\n",
        "\n",
        "\n",
        "# Opens spreadsheet with training data\n",
        "trainingData = pd.read_csv('./DataMining/training.csv', sep=';')\n",
        "trainingData.head()\n",
        "\n",
        "# Sets array y to values in 'label' column\n",
        "y = trainingData['label'].values\n",
        "\n",
        "# Sets array x to pixel values\n",
        "x = trainingData.drop('label', axis=1)\n",
        "\n",
        "# Splits training dataset into 2/3 training, 1/3 testing\n",
        "testingX, trainingX, testingY, trainingY = train_test_split (x, y, test_size = 0.333, random_state=1)\n",
        "\n",
        "# Trains the model using a Decision Tree\n",
        "clf = tree.DecisionTreeClassifier()\n",
        "clf = clf.fit(trainingX, trainingY)\n",
        "\n",
        "# Tests the model\n",
        "predictionY = clf.predict(testingX)\n",
        "\n",
        "# Prints Accuracy of prediction\n",
        "print(\"Accuracy:\", metrics.accuracy_score(testingY, predictionY))\n",
        "\n",
        "###############################################################\n",
        "# FOR TA\n",
        "# UNCOMMENT BELOW CODE TO TEST ON TESTING DATA\n",
        "###############################################################\n",
        "\n",
        "# Sets array trainingX2 to pixel values in testing data\n",
        "#testingX2 = pd.read_csv('./DataMining/testing.csv', sep=',')\n",
        "\n",
        "# Tests the model on testing data\n",
        "#predictionY2 = clf.predict(testingX2)\n",
        "\n",
        "# Uncomment to print prediction values\n",
        "#for value in predictionY2:\n",
        "#  print(value)\n",
        "\n",
        "\n",
        "\n"
      ],
      "execution_count": 0,
      "outputs": [
        {
          "output_type": "stream",
          "text": [
            "Accuracy: 0.7937459841507818\n"
          ],
          "name": "stdout"
        }
      ]
    }
  ]
}