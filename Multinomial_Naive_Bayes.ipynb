{
  "nbformat": 4,
  "nbformat_minor": 0,
  "metadata": {
    "colab": {
      "name": "Multinomial Naive Bayes.ipynb",
      "provenance": [],
      "collapsed_sections": []
    },
    "kernelspec": {
      "name": "python3",
      "display_name": "Python 3"
    }
  },
  "cells": [
    {
      "cell_type": "code",
      "metadata": {
        "id": "4TmbI0xcH3xn",
        "colab_type": "code",
        "outputId": "b0d05229-49f9-4e6b-f8e0-af9e948a62c9",
        "colab": {
          "base_uri": "https://localhost:8080/",
          "height": 51
        }
      },
      "source": [
        "# Multinomial Naive Bayes\n",
        "# Sources\n",
        "# https://scikit-learn.org/stable/modules/naive_bayes.html\n",
        "# https://medium.com/hugo-ferreiras-blog/confusion-matrix-and-other-metrics-in-machine-learning-894688cb1c0a\n",
        "# https://stackoverflow.com/questions/50666091/true-positive-rate-and-false-positive-rate-tpr-fpr-for-multi-class-data-in-py\n",
        "\n",
        "# Imports\n",
        "import pandas as pd\n",
        "import numpy as np\n",
        "import csv\n",
        "# scikit-learn libraries for Multinomial Naive Bayes\n",
        "from sklearn.model_selection import train_test_split\n",
        "from sklearn.naive_bayes import MultinomialNB\n",
        "from sklearn import metrics\n",
        "\n",
        "# Opens spreadsheet with training data\n",
        "trainingData = pd.read_csv('./DataMining/training.csv', sep=';')\n",
        "trainingData.head()\n",
        "\n",
        "# Sets array y to values in 'label' column\n",
        "y = trainingData['label'].values\n",
        "\n",
        "# Sets array x to pixel values\n",
        "x = trainingData.drop('label', axis=1)\n",
        "\n",
        "# Splits training dataset into 2/3 training, 1/3 testing\n",
        "testingX, trainingX, testingY, trainingY = train_test_split (x, y, test_size = 0.333, random_state=1)\n",
        "\n",
        "# Trains the model using Multinomial Naive Bayes\n",
        "nb = MultinomialNB()\n",
        "nb.fit(trainingX, trainingY)\n",
        "\n",
        "# Tests the model\n",
        "predictionY = nb.predict(testingX)\n",
        "\n",
        "# Prints total mislabelled points\n",
        "print(\"Number of mislabeled points out of a total %d points : %d\" % (testingX.shape[0], (testingY != predictionY).sum()))\n",
        "\n",
        "# Prints Accuracy of prediction\n",
        "print(\"Accuracy:\", metrics.accuracy_score(testingY, predictionY))\n",
        "\n",
        "###############################################################\n",
        "# FOR TA\n",
        "# UNCOMMENT BELOW CODE TO TEST ON TESTING DATA\n",
        "###############################################################\n",
        "\n",
        "# Sets array trainingX2 to pixel values in testing data\n",
        "#testingX2 = pd.read_csv('./DataMining/testing.csv', sep=',')\n",
        "\n",
        "# Tests the model on testing data\n",
        "#predictionY2 = clf.predict(testingX2)\n",
        "\n",
        "# Uncomment to print prediction values horizontally, not truncated\n",
        "#print(*predictionY2)\n",
        "\n",
        "# Uncomment to print prediction values, may truncate\n",
        "#for value in predictionY2:\n",
        "#  print(value)"
      ],
      "execution_count": 0,
      "outputs": [
        {
          "output_type": "stream",
          "text": [
            "Number of mislabeled points out of a total 14007 points : 2469\n",
            "Accuracy: 0.8237309916470337\n"
          ],
          "name": "stdout"
        }
      ]
    }
  ]
}