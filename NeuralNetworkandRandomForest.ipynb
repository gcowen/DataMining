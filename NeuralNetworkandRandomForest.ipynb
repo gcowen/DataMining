{
  "nbformat": 4,
  "nbformat_minor": 0,
  "metadata": {
    "colab": {
      "name": "DM.ipynb",
      "provenance": [],
      "collapsed_sections": [],
      "authorship_tag": "ABX9TyNJhgkeDamnL86jzabc4OSN",
      "include_colab_link": true
    },
    "kernelspec": {
      "name": "python3",
      "display_name": "Python 3"
    },
    "accelerator": "GPU"
  },
  "cells": [
    {
      "cell_type": "markdown",
      "metadata": {
        "id": "view-in-github",
        "colab_type": "text"
      },
      "source": [
        "<a href=\"https://colab.research.google.com/github/lovethatcat/DataMining/blob/master/NeuralNetworkandRandomForest.ipynb\" target=\"_parent\"><img src=\"https://colab.research.google.com/assets/colab-badge.svg\" alt=\"Open In Colab\"/></a>"
      ]
    },
    {
      "cell_type": "markdown",
      "metadata": {
        "id": "ZdnJVwUbcYkm",
        "colab_type": "text"
      },
      "source": [
        "Readme:\n",
        "please run the cell one by one, do not jump the cell. If have problem in clone the repo, please clear the runtime and re-run the cell."
      ]
    },
    {
      "cell_type": "code",
      "metadata": {
        "id": "QgLLeUZDeTos",
        "colab_type": "code",
        "outputId": "85a27a55-3630-4f70-9d1b-47cf41f1a073",
        "colab": {
          "base_uri": "https://localhost:8080/",
          "height": 286
        }
      },
      "source": [
        "from sklearn import linear_model\n",
        "import matplotlib.pyplot as plt\n",
        "import pandas as pd\n",
        "import numpy as np\n",
        "import csv\n",
        "!git clone https://github.com/lovethatcat/DataMining.git\n",
        "!ls -R"
      ],
      "execution_count": 4,
      "outputs": [
        {
          "output_type": "stream",
          "text": [
            "Cloning into 'DataMining'...\n",
            "remote: Enumerating objects: 6, done.\u001b[K\n",
            "remote: Counting objects: 100% (6/6), done.\u001b[K\n",
            "remote: Compressing objects: 100% (5/5), done.\u001b[K\n",
            "remote: Total 6 (delta 2), reused 4 (delta 0), pack-reused 0\u001b[K\n",
            "Unpacking objects: 100% (6/6), done.\n",
            ".:\n",
            "DataMining  sample_data\n",
            "\n",
            "./DataMining:\n",
            "testing.csv  training.csv\n",
            "\n",
            "./sample_data:\n",
            "anscombe.json\t\t      mnist_test.csv\n",
            "california_housing_test.csv   mnist_train_small.csv\n",
            "california_housing_train.csv  README.md\n"
          ],
          "name": "stdout"
        }
      ]
    },
    {
      "cell_type": "code",
      "metadata": {
        "id": "vii-pA_whqUK",
        "colab_type": "code",
        "colab": {}
      },
      "source": [
        "def loadCSVfile2():\n",
        "    tmp = np.loadtxt(\"./DataMining/training.csv\", dtype=np.str, delimiter=\",\")\n",
        "    X_train = tmp[1:14700,1:].astype(np.float)\n",
        "    Y_train = tmp[1:14700,0].astype(np.float)\n",
        "    X_test  = tmp[14700:21000,1:].astype(np.float)\n",
        "    Y_test = tmp[14700:21000,0].astype(np.float)\n",
        "    return X_train, Y_train,X_test,Y_test \n"
      ],
      "execution_count": 0,
      "outputs": []
    },
    {
      "cell_type": "code",
      "metadata": {
        "id": "cC14iAYVjSFG",
        "colab_type": "code",
        "colab": {}
      },
      "source": [
        "def loadtest():\n",
        "    tmp = np.loadtxt(\"./DataMining/testing.csv\", dtype=np.str, delimiter=\",\")\n",
        "    data = tmp[1:,0:].astype(np.float)\n",
        "    return data "
      ],
      "execution_count": 0,
      "outputs": []
    },
    {
      "cell_type": "code",
      "metadata": {
        "id": "HWfthDlih2jm",
        "colab_type": "code",
        "outputId": "003ef718-09b3-42f7-cd8f-9b269f37f9d0",
        "colab": {
          "base_uri": "https://localhost:8080/",
          "height": 84
        }
      },
      "source": [
        "X_train, Y_train,X_test,Y_test =loadCSVfile2()\n",
        "print(X_train.shape)\n",
        "print(Y_train.shape)\n",
        "print(X_test.shape)\n",
        "print(Y_test.shape)"
      ],
      "execution_count": 7,
      "outputs": [
        {
          "output_type": "stream",
          "text": [
            "(14699, 784)\n",
            "(14699,)\n",
            "(6300, 784)\n",
            "(6300,)\n"
          ],
          "name": "stdout"
        }
      ]
    },
    {
      "cell_type": "code",
      "metadata": {
        "id": "UKlk1ZyY2uRK",
        "colab_type": "code",
        "outputId": "4cdaf68f-0d19-456c-c786-1865b2303c2e",
        "colab": {
          "base_uri": "https://localhost:8080/",
          "height": 34
        }
      },
      "source": [
        "from sklearn.neural_network import MLPClassifier\n",
        "from sklearn import metrics\n",
        "clf = MLPClassifier(alpha=1e-5,hidden_layer_sizes=(200,50),max_iter=6000)\n",
        "clf.fit(X_train,Y_train)\n",
        "clf.score(X_test, Y_test)\n",
        "#print(score)"
      ],
      "execution_count": 18,
      "outputs": [
        {
          "output_type": "execute_result",
          "data": {
            "text/plain": [
              "0.9444444444444444"
            ]
          },
          "metadata": {
            "tags": []
          },
          "execution_count": 18
        }
      ]
    },
    {
      "cell_type": "code",
      "metadata": {
        "id": "xhI1nvPs8xwL",
        "colab_type": "code",
        "outputId": "9dba0249-c3f8-41e4-fac6-d89e982de3a0",
        "colab": {
          "base_uri": "https://localhost:8080/",
          "height": 34
        }
      },
      "source": [
        "from sklearn.ensemble import RandomForestClassifier\n",
        "RFC = RandomForestClassifier(max_depth=10, random_state=0)\n",
        "RFC.fit(X_train,Y_train)\n",
        "Y_predict = RFC.predict(X_test)\n",
        "print(\"Accuracy:\", metrics.accuracy_score(Y_test, Y_predict))"
      ],
      "execution_count": 9,
      "outputs": [
        {
          "output_type": "stream",
          "text": [
            "Accuracy: 0.9371428571428572\n"
          ],
          "name": "stdout"
        }
      ]
    },
    {
      "cell_type": "markdown",
      "metadata": {
        "id": "YbDZhMqWLGs9",
        "colab_type": "text"
      },
      "source": [
        "To run the test data\n",
        "please load the labels of testing data by the following commend:\n",
        "\n",
        "!git clone https://github.com...........<br>\n",
        "!ls -R<br>\n",
        "label = np.loadtxt(\"./**the location of file in github repo**\", dtype=np.str, delimiter=\",\")<br>\n",
        "I already output the prediction, easy to use **print(\"Accuracy:\", metrics.accuracy_score(Y_true, Y_predict))** to verify"
      ]
    },
    {
      "cell_type": "code",
      "metadata": {
        "id": "D2OaCdEvKuga",
        "colab_type": "code",
        "colab": {
          "base_uri": "https://localhost:8080/",
          "height": 34
        },
        "outputId": "e9e96414-975e-4bc8-d50c-9cb6c26141c7"
      },
      "source": [
        "TEST=loadtest()\n",
        "Y_predictMLP = clf.predict(TEST)\n",
        "print(Y_predictMLP)"
      ],
      "execution_count": 10,
      "outputs": [
        {
          "output_type": "stream",
          "text": [
            "[1. 0. 1. ... 4. 6. 0.]\n"
          ],
          "name": "stdout"
        }
      ]
    },
    {
      "cell_type": "code",
      "metadata": {
        "id": "mfnmjbXcMSLm",
        "colab_type": "code",
        "colab": {
          "base_uri": "https://localhost:8080/",
          "height": 50
        },
        "outputId": "f22fb32c-3733-4f44-e6d8-9cc9bb9e6b4a"
      },
      "source": [
        "print(Y_predictMLP.shape)\n",
        "print(TEST.shape)"
      ],
      "execution_count": 14,
      "outputs": [
        {
          "output_type": "stream",
          "text": [
            "(21000,)\n",
            "(21000, 784)\n"
          ],
          "name": "stdout"
        }
      ]
    },
    {
      "cell_type": "code",
      "metadata": {
        "id": "3fTmWT7MLBVk",
        "colab_type": "code",
        "colab": {
          "base_uri": "https://localhost:8080/",
          "height": 34
        },
        "outputId": "9c9cb8a9-69ef-46d7-bff9-573bc22fbcbf"
      },
      "source": [
        "Y_predictRFC = RFC.predict(TEST)\n",
        "print(Y_predictRFC)"
      ],
      "execution_count": 15,
      "outputs": [
        {
          "output_type": "stream",
          "text": [
            "[1. 0. 1. ... 4. 6. 0.]\n"
          ],
          "name": "stdout"
        }
      ]
    }
  ]
}