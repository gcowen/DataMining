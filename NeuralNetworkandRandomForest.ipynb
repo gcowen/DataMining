{
  "nbformat": 4,
  "nbformat_minor": 0,
  "metadata": {
    "colab": {
      "name": "DM.ipynb",
      "provenance": [],
      "collapsed_sections": []
    },
    "kernelspec": {
      "name": "python3",
      "display_name": "Python 3"
    },
    "accelerator": "GPU"
  },
  "cells": [
    {
      "cell_type": "markdown",
      "metadata": {
        "id": "ZdnJVwUbcYkm",
        "colab_type": "text"
      },
      "source": [
        "Readme:\n",
        "If have problem in clone the repo, please clear the runtime and re-run the cell."
      ]
    },
    {
      "cell_type": "code",
      "metadata": {
        "id": "QgLLeUZDeTos",
        "colab_type": "code",
        "colab": {}
      },
      "source": [
        "from sklearn import linear_model\n",
        "import matplotlib.pyplot as plt\n",
        "import pandas as pd\n",
        "import numpy as np\n",
        "import csv\n",
        "!git clone https://github.com/lovethatcat/DataMining.git\n"
      ],
      "execution_count": 0,
      "outputs": []
    },
    {
      "cell_type": "code",
      "metadata": {
        "id": "vii-pA_whqUK",
        "colab_type": "code",
        "colab": {}
      },
      "source": [
        "def loadCSVfile2():\n",
        "    tmp = np.loadtxt(\"./DataMining/training.csv\", dtype=np.str, delimiter=\",\")\n",
        "    X_train = tmp[1:14700,1:].astype(np.float)\n",
        "    Y_train = tmp[1:14700,0].astype(np.float)\n",
        "    X_test  = tmp[14700:21000,1:].astype(np.float)\n",
        "    Y_test = tmp[14700:21000,0].astype(np.float)\n",
        "    return X_train, Y_train,X_test,Y_test \n"
      ],
      "execution_count": 0,
      "outputs": []
    },
    {
      "cell_type": "code",
      "metadata": {
        "id": "cC14iAYVjSFG",
        "colab_type": "code",
        "colab": {}
      },
      "source": [
        "def loadtest():\n",
        "    tmp = np.loadtxt(\"./DataMining/testing.csv\", dtype=np.str, delimiter=\",\")\n",
        "    data = tmp[1:,0:].astype(np.float)\n",
        "    return data "
      ],
      "execution_count": 0,
      "outputs": []
    },
    {
      "cell_type": "code",
      "metadata": {
        "id": "HWfthDlih2jm",
        "colab_type": "code",
        "colab": {}
      },
      "source": [
        "X_train, Y_train,X_test,Y_test =loadCSVfile2()\n"
      ],
      "execution_count": 0,
      "outputs": []
    },
    {
      "cell_type": "markdown",
      "metadata": {
        "id": "5xSJMglz8d6b",
        "colab_type": "text"
      },
      "source": [
        "# Neural network"
      ]
    },
    {
      "cell_type": "code",
      "metadata": {
        "id": "UKlk1ZyY2uRK",
        "colab_type": "code",
        "outputId": "de7bb3eb-3cad-4afc-ae05-e2f8587cb9c0",
        "colab": {
          "base_uri": "https://localhost:8080/",
          "height": 35
        }
      },
      "source": [
        "from sklearn.neural_network import MLPClassifier\n",
        "from sklearn import metrics\n",
        "clf = MLPClassifier(alpha=1e-5,hidden_layer_sizes=(200,50),max_iter=6000)\n",
        "clf.fit(X_train,Y_train)\n",
        "clf.score(X_test, Y_test)\n",
        "#print(score)"
      ],
      "execution_count": 7,
      "outputs": [
        {
          "output_type": "execute_result",
          "data": {
            "text/plain": [
              "0.9415873015873016"
            ]
          },
          "metadata": {
            "tags": []
          },
          "execution_count": 7
        }
      ]
    },
    {
      "cell_type": "markdown",
      "metadata": {
        "id": "ASJ89DyW8krj",
        "colab_type": "text"
      },
      "source": [
        "# Random Forest"
      ]
    },
    {
      "cell_type": "code",
      "metadata": {
        "id": "xhI1nvPs8xwL",
        "colab_type": "code",
        "outputId": "bd87ef9c-166d-42c2-c919-037da2e26bc9",
        "colab": {
          "base_uri": "https://localhost:8080/",
          "height": 35
        }
      },
      "source": [
        "from sklearn.ensemble import RandomForestClassifier\n",
        "RFC = RandomForestClassifier(max_depth=10, random_state=0)\n",
        "RFC.fit(X_train,Y_train)\n",
        "Y_predict = RFC.predict(X_test)\n",
        "print(\"Accuracy:\", metrics.accuracy_score(Y_test, Y_predict))"
      ],
      "execution_count": 8,
      "outputs": [
        {
          "output_type": "stream",
          "text": [
            "Accuracy: 0.9371428571428572\n"
          ],
          "name": "stdout"
        }
      ]
    },
    {
      "cell_type": "markdown",
      "metadata": {
        "id": "_ST-ksEy8sKN",
        "colab_type": "text"
      },
      "source": [
        "# print test label"
      ]
    },
    {
      "cell_type": "code",
      "metadata": {
        "id": "D2OaCdEvKuga",
        "colab_type": "code",
        "colab": {
          "base_uri": "https://localhost:8080/",
          "height": 35
        },
        "outputId": "218b71d0-0fd4-44af-95e9-0b4ee765b342"
      },
      "source": [
        "TEST=loadtest()\n",
        "Y_predictMLP = clf.predict(TEST)\n",
        "print(Y_predictMLP)"
      ],
      "execution_count": 9,
      "outputs": [
        {
          "output_type": "stream",
          "text": [
            "[1. 0. 1. ... 4. 6. 0.]\n"
          ],
          "name": "stdout"
        }
      ]
    },
    {
      "cell_type": "code",
      "metadata": {
        "id": "3fTmWT7MLBVk",
        "colab_type": "code",
        "colab": {
          "base_uri": "https://localhost:8080/",
          "height": 35
        },
        "outputId": "27eb7f1f-cdd6-4ff1-e51a-b04e8f2652d8"
      },
      "source": [
        "Y_predictRFC = RFC.predict(TEST)\n",
        "print(Y_predictRFC)"
      ],
      "execution_count": 11,
      "outputs": [
        {
          "output_type": "stream",
          "text": [
            "[1. 0. 1. ... 4. 6. 0.]\n"
          ],
          "name": "stdout"
        }
      ]
    },
    {
      "cell_type": "markdown",
      "metadata": {
        "id": "mAUq3ZkGuRyC",
        "colab_type": "text"
      },
      "source": [
        "# Save the model"
      ]
    },
    {
      "cell_type": "code",
      "metadata": {
        "id": "v4yDG8ecuUju",
        "colab_type": "code",
        "colab": {
          "base_uri": "https://localhost:8080/",
          "height": 269
        },
        "outputId": "e2b98e1a-6cac-4ff3-e353-98221fb97702"
      },
      "source": [
        "import os\n",
        "from google.colab import drive\n",
        "drive.mount('/content/drive')\n",
        "\n",
        "path = \"/content/drive/My Drive\"\n",
        "\n",
        "os.chdir(path)\n",
        "os.listdir(path)\n",
        " "
      ],
      "execution_count": 14,
      "outputs": [
        {
          "output_type": "stream",
          "text": [
            "Drive already mounted at /content/drive; to attempt to forcibly remount, call drive.mount(\"/content/drive\", force_remount=True).\n"
          ],
          "name": "stdout"
        },
        {
          "output_type": "execute_result",
          "data": {
            "text/plain": [
              "['Getting started.pdf',\n",
              " 'Colab Notebooks',\n",
              " 'data.py',\n",
              " 'training.py',\n",
              " 'dataset.npy',\n",
              " 'drug.txt',\n",
              " 'interactionmetrix.txt',\n",
              " 'target.txt',\n",
              " 'datasety.npy',\n",
              " 'final presentation - Bar chart 1.gsheet',\n",
              " 'Untitled spreadsheet.gsheet',\n",
              " 'sharetosis',\n",
              " 'lena.JPG']"
            ]
          },
          "metadata": {
            "tags": []
          },
          "execution_count": 14
        }
      ]
    },
    {
      "cell_type": "code",
      "metadata": {
        "id": "FDiPYzm5yBeI",
        "colab_type": "code",
        "colab": {
          "base_uri": "https://localhost:8080/",
          "height": 35
        },
        "outputId": "c12c4f4e-4853-4cd7-cf44-3637cb448ad1"
      },
      "source": [
        "from sklearn.externals import joblib\n",
        "joblib.dump(clf, '/content/drive/My Drive/MLP.pkl') \n",
        "joblib.dump(RFC, '/content/drive/My Drive/RFC.pkl')"
      ],
      "execution_count": 16,
      "outputs": [
        {
          "output_type": "execute_result",
          "data": {
            "text/plain": [
              "['/content/drive/My Drive/RFC.pkl']"
            ]
          },
          "metadata": {
            "tags": []
          },
          "execution_count": 16
        }
      ]
    },
    {
      "cell_type": "code",
      "metadata": {
        "id": "3osafO-20R6q",
        "colab_type": "code",
        "colab": {}
      },
      "source": [
        "np.savetxt(\"/content/drive/My Drive/Y_predictMLP.csv\", Y_predictMLP, delimiter=',')\n",
        "np.savetxt(\"/content/drive/My Drive/Y_predictRFC.csv\", Y_predictRFC, delimiter=',')"
      ],
      "execution_count": 0,
      "outputs": []
    },
    {
      "cell_type": "markdown",
      "metadata": {
        "id": "o5bDAqki1sic",
        "colab_type": "text"
      },
      "source": [
        "# FOR TA to test "
      ]
    },
    {
      "cell_type": "markdown",
      "metadata": {
        "id": "LAHJ5ASjzvXQ",
        "colab_type": "text"
      },
      "source": [
        "1. Please copy this code to **IDE** and change the following Comment line\n",
        "2. You can also directly check the label file: **Y_predictMLP.csv** and **Y_predictRFC.csv** which are generated by testing.csv data"
      ]
    },
    {
      "cell_type": "code",
      "metadata": {
        "id": "s11yp6dw2KvJ",
        "colab_type": "code",
        "colab": {
          "base_uri": "https://localhost:8080/",
          "height": 53
        },
        "outputId": "43e3da34-a159-4495-cebb-4caef0aa52f0"
      },
      "source": [
        "from sklearn.externals import joblib\n",
        "from sklearn.neural_network import MLPClassifier\n",
        "from sklearn.ensemble import RandomForestClassifier\n",
        "from sklearn import metrics\n",
        "import numpy as np\n",
        "import csv\n",
        "\n",
        "def loadtest():\n",
        "    tmp = np.loadtxt(\"./DataMining/testing.csv\", dtype=np.str, delimiter=\",\")           # change to the local path by       tmp = np.loadtxt(\"testing.csv\", dtype=np.str, delimiter=\",\")\n",
        "    data = tmp[1:,0:].astype(np.float)\n",
        "    return data\n",
        "def loadtruelabel():\n",
        "    truelabel=np.loadtxt(\"please in put the path of true label\", dtype=np.str, delimiter=\",\") # change to the local path to load the true label and please make sure the foramt of label data is right.\n",
        "    return truelabel\n",
        "\n",
        "theMLP = joblib.load('./DataMining/MLP.pkl')                               # change to the local path by        theMLP = joblib.load('MLP.pkl')\n",
        "theRFC = joblib.load('./DataMining/RFC.pkl')                               # change to the local path by        theRFC = joblib.load('RFC.pkl')\n",
        "TEST=loadtest()\n",
        "MLP_label = theMLP.predict(TEST)\n",
        "RFC_Label = theRFC.predict(TEST)\n",
        "print(MLP_label)\n",
        "print(RFC_Label)\n",
        "#Y_true=loadtruelabel()                                           #######  DELETE the \"#\" to show final accuracy\n",
        "#print(\"Accuracy of MLP:\", metrics.accuracy_score(Y_true, MLP_label))                  #######  DELETE the \"#\" to show final accuracy\n",
        "#print(\"Accuracy of RFCP:\", metrics.accuracy_score(Y_true, RFC_Label))                  #######  DELETE the \"#\" to show final accuracy"
      ],
      "execution_count": 22,
      "outputs": [
        {
          "output_type": "stream",
          "text": [
            "[1. 0. 1. ... 4. 6. 0.]\n",
            "[1. 0. 1. ... 4. 6. 0.]\n"
          ],
          "name": "stdout"
        }
      ]
    }
  ]
}