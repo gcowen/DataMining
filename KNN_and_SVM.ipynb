{
  "nbformat": 4,
  "nbformat_minor": 0,
  "metadata": {
    "colab": {
      "name": "KNN_and_SVM.ipynb",
      "provenance": []
    },
    "kernelspec": {
      "name": "python3",
      "display_name": "Python 3"
    },
    "accelerator": "GPU"
  },
  "cells": [
    {
      "cell_type": "markdown",
      "metadata": {
        "id": "QTOpOyXLEKr8",
        "colab_type": "text"
      },
      "source": [
        "Upload the training and testing data to github so that we can directly use it from colab"
      ]
    },
    {
      "cell_type": "code",
      "metadata": {
        "id": "BmNp1MU9CMRP",
        "colab_type": "code",
        "outputId": "62ca2909-132f-4b55-ee56-b45a5a6600a2",
        "colab": {
          "base_uri": "https://localhost:8080/",
          "height": 286
        }
      },
      "source": [
        "!git clone https://github.com/lovethatcat/DataMining.git\n",
        "!ls -R"
      ],
      "execution_count": 1,
      "outputs": [
        {
          "output_type": "stream",
          "text": [
            "Cloning into 'DataMining'...\n",
            "remote: Enumerating objects: 6, done.\u001b[K\n",
            "remote: Counting objects: 100% (6/6), done.\u001b[K\n",
            "remote: Compressing objects: 100% (5/5), done.\u001b[K\n",
            "remote: Total 6 (delta 2), reused 4 (delta 0), pack-reused 0\u001b[K\n",
            "Unpacking objects: 100% (6/6), done.\n",
            ".:\n",
            "DataMining  sample_data\n",
            "\n",
            "./DataMining:\n",
            "testing.csv  training.csv\n",
            "\n",
            "./sample_data:\n",
            "anscombe.json\t\t      mnist_test.csv\n",
            "california_housing_test.csv   mnist_train_small.csv\n",
            "california_housing_train.csv  README.md\n"
          ],
          "name": "stdout"
        }
      ]
    },
    {
      "cell_type": "code",
      "metadata": {
        "id": "fDrA8t5RCw6Y",
        "colab_type": "code",
        "colab": {}
      },
      "source": [
        "import pandas as pd\n",
        "import numpy as np\n",
        "from pprint import pprint\n",
        "import matplotlib.pyplot as plt\n",
        "from sklearn.model_selection import train_test_split\n",
        "from sklearn.neighbors import KNeighborsClassifier\n",
        "from sklearn.model_selection import RandomizedSearchCV\n",
        "from sklearn.metrics import accuracy_score\n",
        "data = pd.read_csv('./DataMining/training.csv')"
      ],
      "execution_count": 0,
      "outputs": []
    },
    {
      "cell_type": "markdown",
      "metadata": {
        "id": "PPe3QFM-_BWp",
        "colab_type": "text"
      },
      "source": [
        "method 3: KNN"
      ]
    },
    {
      "cell_type": "code",
      "metadata": {
        "id": "ZO1nDjGADYqj",
        "colab_type": "code",
        "outputId": "fdd93362-f2d4-477e-aa27-0b03e1229828",
        "colab": {
          "base_uri": "https://localhost:8080/",
          "height": 591
        }
      },
      "source": [
        "X = data.iloc[:, 1:]\n",
        "y = data['label']\n",
        "\n",
        "X_train, X_test, y_train, y_test = train_test_split(X, y, test_size=0.25, random_state=42)\n",
        "\n",
        "\n",
        "random_grid = {\n",
        "    'n_neighbors':[int(x) for x in np.linspace(start = 5, stop = 31, num = 20)],\n",
        "    'metric': ['manhattan','minkowski','euclidean'],\n",
        "    'weights': ['uniform','distance'],\n",
        "    'algorithm': ['auto','ball_tree', 'kd_tree', 'brute'],\n",
        "    'leaf_size': [int(x) for x in np.linspace(start=30, stop=200, num = 10)]\n",
        "               }\n",
        "\n",
        "\n",
        "knc = KNeighborsClassifier()\n",
        "knc_random = RandomizedSearchCV(estimator=knc, \n",
        "\tparam_distributions=random_grid, n_iter=100, cv=3,\n",
        "\tverbose=2, random_state=42, n_jobs=-1)\n",
        "knc_random.fit(X_train, y_train)\n",
        "print(knc_random.best_params_)\n",
        "best_random = knc_random.best_estimator_\n",
        "y_predict_knc = knc_random.predict(X_test)\n",
        "y_predict_knc_best_random = best_random.predict(X_test)\n",
        "\n",
        "acc_random = accuracy_score(y_test, y_predict_knc_best_random)\n",
        "acc_knc = accuracy_score(y_test, y_predict_knc)\n",
        "print(acc_knc)"
      ],
      "execution_count": 0,
      "outputs": [
        {
          "output_type": "stream",
          "text": [
            "{'algorithm': ['auto', 'ball_tree', 'kd_tree', 'brute'],\n",
            " 'leaf_size': [30, 48, 67, 86, 105, 124, 143, 162, 181, 200],\n",
            " 'metric': ['manhattan', 'minkowski', 'euclidean'],\n",
            " 'n_neighbors': [5,\n",
            "                 6,\n",
            "                 7,\n",
            "                 9,\n",
            "                 10,\n",
            "                 11,\n",
            "                 13,\n",
            "                 14,\n",
            "                 15,\n",
            "                 17,\n",
            "                 18,\n",
            "                 20,\n",
            "                 21,\n",
            "                 22,\n",
            "                 24,\n",
            "                 25,\n",
            "                 26,\n",
            "                 28,\n",
            "                 29,\n",
            "                 31],\n",
            " 'weights': ['uniform', 'distance']}\n",
            "Fitting 3 folds for each of 100 candidates, totalling 300 fits\n"
          ],
          "name": "stdout"
        },
        {
          "output_type": "stream",
          "text": [
            "[Parallel(n_jobs=-1)]: Using backend LokyBackend with 2 concurrent workers.\n",
            "[Parallel(n_jobs=-1)]: Done  37 tasks      | elapsed: 26.3min\n",
            "/usr/local/lib/python3.6/dist-packages/joblib/externals/loky/process_executor.py:706: UserWarning: A worker stopped while some jobs were given to the executor. This can be caused by a too short worker timeout or by a memory leak.\n",
            "  \"timeout or by a memory leak.\", UserWarning\n",
            "[Parallel(n_jobs=-1)]: Done 158 tasks      | elapsed: 98.8min\n",
            "[Parallel(n_jobs=-1)]: Done 300 out of 300 | elapsed: 179.9min finished\n"
          ],
          "name": "stderr"
        },
        {
          "output_type": "stream",
          "text": [
            "{'weights': 'distance', 'n_neighbors': 5, 'metric': 'euclidean', 'leaf_size': 30, 'algorithm': 'kd_tree'}\n",
            "0.955047619047619\n"
          ],
          "name": "stdout"
        }
      ]
    },
    {
      "cell_type": "markdown",
      "metadata": {
        "id": "q5mERCeD_O_a",
        "colab_type": "text"
      },
      "source": [
        "method 4: SVM"
      ]
    },
    {
      "cell_type": "code",
      "metadata": {
        "id": "F-lVEClPEE2e",
        "colab_type": "code",
        "outputId": "21e69aff-d0cf-46bc-c7ce-177e9a7851b2",
        "colab": {
          "base_uri": "https://localhost:8080/",
          "height": 34
        }
      },
      "source": [
        "import numpy as np\n",
        "import pandas as pd\n",
        "from sklearn import svm\n",
        "import matplotlib.pyplot as plt\n",
        "from sklearn.preprocessing import LabelEncoder\n",
        "from sklearn.preprocessing import OneHotEncoder\n",
        "import matplotlib\n",
        "from sklearn.metrics import accuracy_score\n",
        "from sklearn.metrics import plot_roc_curve\n",
        "\n",
        "train = pd.read_csv('./DataMining/training.csv')\n",
        "lab_encoder = LabelEncoder()\n",
        "label = train['label']\n",
        "label_encoded = lab_encoder.fit_transform(label)\n",
        "label_encoded\n",
        "df2 = train.drop(columns = ['label'])\n",
        "x_train = df2.values\n",
        "# split the training data set \n",
        "x_test = x_train[15000:21000] # use 1/3 of training data to test\n",
        "x_train =x_train[0:14999] # use 2/3 of traing data to train \n",
        "\n",
        "from sklearn.preprocessing import MinMaxScaler #use this to do the scaling\n",
        "scaling = MinMaxScaler(feature_range=(-1,1)).fit(x_train)\n",
        "x_train = scaling.transform(x_train)\n",
        "x_test = scaling.transform(x_test)\n",
        "\n",
        "# svc classifier\n",
        "model=svm.SVC()\n",
        "model.fit(x_train,label_encoded[0:14999])\n",
        "compare = []\n",
        "for i in range(0,6000):\n",
        "    result = model.predict(x_test[i].reshape(1, 784))\n",
        "    compare.append(result[0]) \n",
        "accuracy_score(compare, label[15000:21000])"
      ],
      "execution_count": 7,
      "outputs": [
        {
          "output_type": "execute_result",
          "data": {
            "text/plain": [
              "0.9665"
            ]
          },
          "metadata": {
            "tags": []
          },
          "execution_count": 7
        }
      ]
    },
    {
      "cell_type": "code",
      "metadata": {
        "id": "xvY8v9B0aMV8",
        "colab_type": "code",
        "colab": {
          "base_uri": "https://localhost:8080/",
          "height": 84
        },
        "outputId": "da8bbd7d-556f-44f6-ef5e-78dacb74dbae"
      },
      "source": [
        "import matplotlib.pyplot as plt\n",
        "from sklearn.svm import SVC\n",
        "from sklearn.ensemble import RandomForestClassifier\n",
        "from sklearn.metrics import plot_roc_curve\n",
        "from sklearn.datasets import load_wine\n",
        "from sklearn.model_selection import train_test_split\n",
        "\n",
        "X = data.iloc[:, 1:]\n",
        "y = data['label']\n",
        "y = y == 9\n",
        "\n",
        "X_train, X_test, y_train, y_test = train_test_split(X, y, random_state=42)\n",
        "svc = SVC(random_state=42)\n",
        "svc.fit(X_train, y_train)"
      ],
      "execution_count": 41,
      "outputs": [
        {
          "output_type": "execute_result",
          "data": {
            "text/plain": [
              "SVC(C=1.0, break_ties=False, cache_size=200, class_weight=None, coef0=0.0,\n",
              "    decision_function_shape='ovr', degree=3, gamma='scale', kernel='rbf',\n",
              "    max_iter=-1, probability=False, random_state=42, shrinking=True, tol=0.001,\n",
              "    verbose=False)"
            ]
          },
          "metadata": {
            "tags": []
          },
          "execution_count": 41
        }
      ]
    },
    {
      "cell_type": "code",
      "metadata": {
        "id": "Nl4F3qISaS7N",
        "colab_type": "code",
        "colab": {
          "base_uri": "https://localhost:8080/",
          "height": 279
        },
        "outputId": "328d909a-db7f-4d84-bff7-66ee0d3905f1"
      },
      "source": [
        "svc_disp = plot_roc_curve(svc, X_test, y_test)\n",
        "plt.show()"
      ],
      "execution_count": 42,
      "outputs": [
        {
          "output_type": "display_data",
          "data": {
            "image/png": "[encoded data removed]",
            "text/plain": [
              "<Figure size 432x288 with 1 Axes>"
            ]
          },
          "metadata": {
            "tags": []
          }
        }
      ]
    },
    {
      "cell_type": "code",
      "metadata": {
        "id": "XmA6zMo-iQH7",
        "colab_type": "code",
        "colab": {
          "base_uri": "https://localhost:8080/",
          "height": 279
        },
        "outputId": "52442024-9aa8-460a-f251-10acba4c197d"
      },
      "source": [
        "knn = KNeighborsClassifier()\n",
        "knn.fit(X_train, y_train)\n",
        "ax = plt.gca()\n",
        "knn_disp = plot_roc_curve(knn, X_test, y_test, ax=ax, alpha=0.8)\n",
        "svc_disp.plot(ax=ax, alpha=0.8)\n",
        "plt.show()"
      ],
      "execution_count": 43,
      "outputs": [
        {
          "output_type": "display_data",
          "data": {
            "image/png": "[encoded data removed]",
            "text/plain": [
              "<Figure size 432x288 with 1 Axes>"
            ]
          },
          "metadata": {
            "tags": []
          }
        }
      ]
    }
  ]
}